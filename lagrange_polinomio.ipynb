{
 "cells": [
  {
   "cell_type": "code",
   "execution_count": 7,
   "metadata": {},
   "outputs": [],
   "source": [
    "import numpy as np\n",
    "import sympy as sp"
   ]
  },
  {
   "cell_type": "code",
   "execution_count": 8,
   "metadata": {},
   "outputs": [],
   "source": [
    "\"\"\"\n",
    "    Este trecho de código define a função \"Lagrange\", que tem como objetivo encontrar o polinômio interpolador de Lagrange. A função \"Lagrange\" recebe como entrada duas listas: uma com os \n",
    "    valores de x (os pontos onde se deseja interpolar a função) e outra com os valores de y (os valores da função nos pontos de x). A função \"Lagrange\" define uma outra função interna chamada \n",
    "    \"P\", que recebe como entrada um ponto \"z\" e retorna o valor da função interpoladora em \"z\". A função \"P\" usa as fórmulas de Lagrange para calcular o valor da função interpoladora em \"z\". \n",
    "    Cada fórmula de Lagrange pondera de uma forma diferente os valores de y para calcular o valor da função interpoladora em \"z\". A função \"Lagrange\" retorna o polinômio interpolador, que é \n",
    "    calculado como a soma dos produtos de cada fórmula de Lagrange pelo correspondente valor de y.\n",
    "\"\"\"\n",
    "\n",
    "def Lagrange(x, y):\n",
    "    \n",
    "    # Recebe três pontos (x, y) e retorna o polinômio interpolador de Lagrange.\n",
    "    def P(z):\n",
    "        \n",
    "        # Recebe um ponto z e retorna o valor da função interpoladora em z.\n",
    "        # Cria as matrizes L1, L2 e L3 para armazenar as funções de Lagrange correspondentes a cada ponto\n",
    "        L1 = (z - x[1]) * (z - x[2]) / ((x[0] - x[1]) * (x[0] - x[2]))\n",
    "        L2 = (z - x[0]) * (z - x[2]) / ((x[1] - x[0]) * (x[1] - x[2]))\n",
    "        L3 = (z - x[0]) * (z - x[1]) / ((x[2] - x[0]) * (x[2] - x[1]))\n",
    "\n",
    "        # Calcula o valor da função interpoladora como a soma dos produtos de cada função de Lagrange pelo correspondente valor de y\n",
    "        return L1 * y[0] + L2 * y[1] + L3 * y[2]\n",
    "    \n",
    "    # Calcula as funções de Lagrande L1, L2 e L3. Cada uma corresponde em uma forma diferente de ponderar os valores\n",
    "    x_sym = sp.symbols(\"x\")\n",
    "    L1 = (x_sym - x[1]) * (x_sym - x[2]) / ((x[0] - x[1]) * (x[0] - x[2]))\n",
    "    L2 = (x_sym - x[0]) * (x_sym - x[2]) / ((x[1] - x[0]) * (x[1] - x[2]))\n",
    "    L3 = (x_sym - x[0]) * (x_sym - x[1]) / ((x[2] - x[0]) * (x[2] - x[1]))\n",
    "    \n",
    "    # Calcula o polinômio interpolador como a soma dos produtos de cada função de Lagrange pelo correspondente valor de y\n",
    "    return L1 * y[0] + L2 * y[1] + L3 * y[2]"
   ]
  },
  {
   "cell_type": "code",
   "execution_count": 9,
   "metadata": {},
   "outputs": [],
   "source": [
    "# Pega os pontos x e y em uma array\n",
    "x_str = input('Determine o array \"x\", adicionando os números separados por espaço: ').strip().split()\n",
    "y_str = input('Determine o array \"y\", adicionando os números separados por espaço: ').strip().split()\n",
    "\n",
    "# Expressão que está sendo buscada\n",
    "est = input('Determine a estimativa desejada: ')\n",
    "\n",
    "# Transforma os pontos de string para uma array de inteiros\n",
    "x = np.array(x_str, dtype=int)\n",
    "y = np.array(y_str, dtype=int)\n",
    "\n",
    "# Chama a função Lagrange para obter o polinômio interpolador\n",
    "P = Lagrange(x, y)"
   ]
  },
  {
   "cell_type": "code",
   "execution_count": 10,
   "metadata": {},
   "outputs": [
    {
     "name": "stdout",
     "output_type": "stream",
     "text": [
      "O polinômio interpolador de Lagrange é:\n"
     ]
    },
    {
     "data": {
      "text/latex": [
       "$\\displaystyle 3 x^{2} + x + 4$"
      ],
      "text/plain": [
       "3*x**2 + x + 4"
      ]
     },
     "execution_count": 10,
     "metadata": {},
     "output_type": "execute_result"
    }
   ],
   "source": [
    "# Imprime o polinômio interpolador\n",
    "print(\"O polinômio interpolador de Lagrange é:\")\n",
    "sp.simplify(P)"
   ]
  },
  {
   "cell_type": "code",
   "execution_count": 11,
   "metadata": {},
   "outputs": [
    {
     "name": "stdout",
     "output_type": "stream",
     "text": [
      "O resultado da estimativa para o valor de f(x_0 + 2) é:\n"
     ]
    },
    {
     "data": {
      "text/latex": [
       "$\\displaystyle 8$"
      ],
      "text/plain": [
       "8"
      ]
     },
     "execution_count": 11,
     "metadata": {},
     "output_type": "execute_result"
    }
   ],
   "source": [
    "# Apresenta o valor substituindo a incógnita 'x' pela número que buscamos, no caso é (x_0 + 2) \n",
    "\n",
    "x = sp.Symbol('x')\n",
    "\n",
    "print(f\"O resultado da estimativa para o valor de f({est}) é:\")\n",
    "sp.simplify(P.subs(x, 1))"
   ]
  },
  {
   "cell_type": "code",
   "execution_count": 12,
   "metadata": {},
   "outputs": [
    {
     "name": "stdout",
     "output_type": "stream",
     "text": [
      "Seu valor em floot é:\n"
     ]
    },
    {
     "data": {
      "text/latex": [
       "$\\displaystyle 8.0$"
      ],
      "text/plain": [
       "8.00000000000000"
      ]
     },
     "execution_count": 12,
     "metadata": {},
     "output_type": "execute_result"
    }
   ],
   "source": [
    "print(\"Seu valor em floot é:\")\n",
    "sp.simplify(P.subs(x, 1).evalf())"
   ]
  }
 ],
 "metadata": {
  "kernelspec": {
   "display_name": "Python 3",
   "language": "python",
   "name": "python3"
  },
  "language_info": {
   "codemirror_mode": {
    "name": "ipython",
    "version": 3
   },
   "file_extension": ".py",
   "mimetype": "text/x-python",
   "name": "python",
   "nbconvert_exporter": "python",
   "pygments_lexer": "ipython3",
   "version": "3.10.6"
  },
  "orig_nbformat": 4,
  "vscode": {
   "interpreter": {
    "hash": "31f2aee4e71d21fbe5cf8b01ff0e069b9275f58929596ceb00d14d90e3e16cd6"
   }
  }
 },
 "nbformat": 4,
 "nbformat_minor": 2
}
